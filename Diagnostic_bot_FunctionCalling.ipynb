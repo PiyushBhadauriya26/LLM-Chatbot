{
 "cells": [
  {
   "cell_type": "code",
   "execution_count": 17,
   "id": "01681379",
   "metadata": {},
   "outputs": [],
   "source": [
    "import os\n",
    "import sendgrid\n",
    "import openai\n",
    "import json\n",
    "from tenacity import retry, wait_random_exponential, stop_after_attempt\n",
    "from dotenv import load_dotenv\n",
    "from openai import OpenAI\n",
    "from sendgrid.helpers.mail import *"
   ]
  },
  {
   "cell_type": "code",
   "execution_count": 18,
   "id": "d6e2fa95",
   "metadata": {},
   "outputs": [
    {
     "data": {
      "text/plain": [
       "True"
      ]
     },
     "execution_count": 18,
     "metadata": {},
     "output_type": "execute_result"
    }
   ],
   "source": [
    "load_dotenv()\n",
    "# OPENAI_API_KEY=\n",
    "# SENDGRID_API_KEY= https://docs.sendgrid.com/ui/account-and-settings/api-keys"
   ]
  },
  {
   "cell_type": "code",
   "execution_count": 19,
   "id": "54e4e0f4",
   "metadata": {},
   "outputs": [],
   "source": [
    "client = OpenAI()"
   ]
  },
  {
   "cell_type": "code",
   "execution_count": 20,
   "id": "03ce39a4",
   "metadata": {},
   "outputs": [],
   "source": [
    "GPT_MODEL = \"gpt-4-1106-preview\"\n",
    "@retry(wait=wait_random_exponential(multiplier=1, max=40), stop=stop_after_attempt(3))\n",
    "def chat_completion_request(messages, temperature=0, tools=None, tool_choice=None, model=GPT_MODEL):\n",
    "    try:\n",
    "        response = client.chat.completions.create(\n",
    "            model=model,\n",
    "            messages=messages,\n",
    "            temperature=temperature,\n",
    "            tools=tools,\n",
    "            tool_choice=tool_choice,\n",
    "        )\n",
    "        return response\n",
    "    except Exception as e:\n",
    "        print(\"Unable to generate ChatCompletion response\")\n",
    "        print(f\"Exception: {e}\")\n",
    "        return e"
   ]
  },
  {
   "cell_type": "code",
   "execution_count": 21,
   "id": "aa348fa3",
   "metadata": {},
   "outputs": [],
   "source": [
    "def send_email(to_email, msg):\n",
    "    try :\n",
    "        sg = sendgrid.SendGridAPIClient(api_key=os.environ.get('SENDGRID_API_KEY'))\n",
    "        from_email = Email(\"coolpiyushsingh@gmail.com\")\n",
    "        to_email = To(to_email)\n",
    "        subject = \"Diagnosis Result\"\n",
    "        content = Content(\"text/plain\", msg)\n",
    "        mail = Mail(from_email, to_email, subject, content)\n",
    "        response = sg.client.mail.send.post(request_body=mail.get())\n",
    "    except Exception as e:\n",
    "        print(e)\n",
    "        return \"Error! Failed to send email.\"\n",
    "    else:\n",
    "        return \"Success! sent email to {}\".format(to_email.email)\n"
   ]
  },
  {
   "cell_type": "code",
   "execution_count": 22,
   "id": "659fc230",
   "metadata": {},
   "outputs": [],
   "source": [
    "#send_email(\"chat_bot@mailinator.com\",\"test\")"
   ]
  },
  {
   "cell_type": "code",
   "execution_count": 23,
   "id": "9467cb2b",
   "metadata": {},
   "outputs": [],
   "source": [
    "tools = [\n",
    "    {\n",
    "        \"type\": \"function\",\n",
    "        \"function\": {\n",
    "            \"name\": \"send_email\",\n",
    "            \"description\": \"Send an email to patient with Diagnosis Result\",\n",
    "            \"parameters\": {\n",
    "                \"type\": \"object\",\n",
    "                \"properties\": {\n",
    "                    \"to_email\": {\n",
    "                        \"type\": \"string\",\n",
    "                        \"description\": \"the recipient email address\",\n",
    "                    },\n",
    "                    \"msg\": {\n",
    "                        \"type\": \"string\",\n",
    "                        \"description\": \"Body of the email with Diagnosis Result\",\n",
    "                    },\n",
    "                },\n",
    "                \"required\": [\"to_email\", \"msg\"],\n",
    "            },\n",
    "        }\n",
    "    }, \n",
    "]\n",
    "\n",
    "available_functions = {\n",
    "            \"send_email\": send_email,\n",
    "        } "
   ]
  },
  {
   "cell_type": "code",
   "execution_count": 24,
   "id": "76b97b06",
   "metadata": {},
   "outputs": [],
   "source": [
    "from langchain_community.document_loaders import WebBaseLoader\n",
    "# load data for context \n",
    "loader = WebBaseLoader(\"https://www.webmd.com/cold-and-flu/flu-cold-symptoms\")\n",
    "loader2 = WebBaseLoader(\"https://www.webmd.com/diabetes/understanding-diabetes-symptoms\")\n",
    "\n",
    "docs = loader.load()\n",
    "docs += loader2.load()"
   ]
  },
  {
   "cell_type": "code",
   "execution_count": 25,
   "id": "c856dd5b",
   "metadata": {},
   "outputs": [],
   "source": [
    "context = \"\"\n",
    "for i in range(len(docs)):\n",
    "    msg = f\"Write 10 line summary of the document : {docs[i].page_content}\"\n",
    "    messages = [{\"role\": \"user\", \"content\": msg}]\n",
    "    response = chat_completion_request(messages, 0)\n",
    "    context += f\"{response.choices[0].message.content}\\n---\\n\""
   ]
  },
  {
   "cell_type": "code",
   "execution_count": 26,
   "id": "cad3925b",
   "metadata": {},
   "outputs": [
    {
     "name": "stdout",
     "output_type": "stream",
     "text": [
      "1. The document provides information on how to differentiate between common cold and flu symptoms, their duration, and when to seek medical advice.\n",
      "2. A cold is a milder respiratory illness than the flu, with symptoms like sore throat, runny nose, congestion, and cough, and fever is rare in adults.\n",
      "3. Cold symptoms typically last about a week, with the first three days being the most contagious period.\n",
      "4. If cold symptoms persist beyond a week or worsen, it could indicate a bacterial infection or other conditions like allergies or sinusitis.\n",
      "5. Flu symptoms are more severe and come on quickly, including sore throat, fever, headache, muscle aches, congestion, and cough, and can lead to complications like pneumonia.\n",
      "6. Flu symptoms often include a higher fever and more intense body aches compared to a cold, and fatigue can last several weeks.\n",
      "7. The document includes a table comparing symptoms of colds and flu to help readers self-diagnose.\n",
      "8. It's important to call a doctor if experiencing severe symptoms like persistent fever, painful swallowing, persistent coughing, or signs of a bacterial infection.\n",
      "9. Preventative measures include frequent hand washing and getting a flu vaccine, especially during the peak flu season from fall to spring.\n",
      "10. The document emphasizes the importance of medical consultation for severe symptoms and provides additional resources on cold and flu treatment and prevention.\n",
      "---\n",
      "1. Diabetes symptoms arise from elevated glucose levels in the blood, often going unnoticed, particularly in type 2 diabetes.\n",
      "2. Type 1 diabetes symptoms appear rapidly and are more severe, while type 2 symptoms develop over time.\n",
      "3. Common early signs include increased hunger and fatigue due to the body's inability to use glucose for energy without sufficient insulin.\n",
      "4. Frequent urination and increased thirst occur as the body attempts to eliminate excess glucose, leading to dehydration.\n",
      "5. Dry mouth, itchy skin, and blurred vision are also symptoms, caused by the body's use of fluids to produce urine, affecting hydration and eye lens shape.\n",
      "6. Type 2 diabetes may present with yeast infections, slow-healing sores, and pain or numbness in extremities due to high glucose levels.\n",
      "7. Unplanned weight loss, nausea, and vomiting are signs of type 1 diabetes, potentially leading to diabetic ketoacidosis.\n",
      "8. Gestational diabetes typically has no symptoms but may cause increased thirst and urination.\n",
      "9. Complications of diabetes include skin infections, numbness, vision problems, and erectile dysfunction.\n",
      "10. Hypoglycemia and hyperglycemia are conditions of low and high blood sugar, respectively, with symptoms like shakiness, confusion, heavy thirst, and frequent urination; severe cases can lead to diabetic coma.\n",
      "---\n",
      "\n"
     ]
    }
   ],
   "source": [
    "print(context)"
   ]
  },
  {
   "cell_type": "code",
   "execution_count": 27,
   "id": "cdda84f0",
   "metadata": {},
   "outputs": [],
   "source": [
    "chatContext = [\n",
    "    {'role':'system', 'content': f\"\"\"\n",
    "    I want you to act as a virtual doctor.\n",
    "    Be polite and empathetic with user.Give user warning for non emergecy use only during greeting.\n",
    "    Provide information that user can quit chat anytime when they type \"bye or quit or exit.\n",
    "\n",
    "    Follow do and don't  beforing answering.\n",
    "    do :\n",
    "        Ask user to provide email during welcome , repeat asking for email until user provide one.\n",
    "    \n",
    "    don't :\n",
    "        Don't proceed with daignosis without user email.\n",
    "        Don't repeat non emergecy use worning every time.\n",
    "        Don't ask more then 3 follow up question.\n",
    "        \n",
    "    Go step by step :\n",
    "        - Ask user to provide users' email during welcome , repeat asking for user email until user provide one.\n",
    "        - If user don't provide email , inform that you can't help withour user email , and repeat previous step , else Thank user for providing email and move to next step\n",
    "        - Ask user how user is feeling.\n",
    "        - Based on user provided symptoms if needed more informaiton for diagonosis , ask max 2-3 follow up questions.\n",
    "        - Provide a diagnosis and precaution plan based on the provided context and symptoms.\n",
    "        - ask user if they want email summary of diagnosis.\n",
    "        - if user respond yes , give message that email is sent to users email , else say thank you.\n",
    "        - Say bye to user.\n",
    "        \n",
    "        \n",
    "<context>\n",
    "{context}\n",
    "</context>\n",
    "\"\"\"},      \n",
    "]"
   ]
  },
  {
   "cell_type": "code",
   "execution_count": 28,
   "id": "19b701a8",
   "metadata": {},
   "outputs": [
    {
     "name": "stdout",
     "output_type": "stream",
     "text": [
      "Number of Words : 635\n",
      "Number of Tokens : 928\n"
     ]
    }
   ],
   "source": [
    "import tiktoken\n",
    "def num_tokens_from_string(string: str) -> int:\n",
    "    \"\"\"Returns the number of tokens in a text string.\"\"\"\n",
    "    encoding = tiktoken.encoding_for_model(GPT_MODEL)\n",
    "    num_tokens = len(encoding.encode(string))\n",
    "    return num_tokens\n",
    "\n",
    "print(f\"Number of Words : {len(str(chatContext).split())}\")\n",
    "print(f\"Number of Tokens : {num_tokens_from_string(str(chatContext))}\")"
   ]
  },
  {
   "cell_type": "code",
   "execution_count": 29,
   "id": "23224e73",
   "metadata": {},
   "outputs": [
    {
     "name": "stdout",
     "output_type": "stream",
     "text": [
      "ChatBot:  Welcome to your virtual doctor consultation. Please note that this service is for non-emergency use only. If you are experiencing a medical emergency, please contact emergency services immediately. To begin, could you please provide me with your email address? Remember, you can quit this chat at any time by typing \"bye,\" \"quit,\" or \"exit.\"\n",
      "User Input: piyush.bhadauriya@sjsu.edu\n",
      "ChatBot:  Thank you for providing your email address, piyush.bhadauriya@sjsu.edu. Now, how are you feeling today? Please share any symptoms you're experiencing or any health concerns you have.\n",
      "User Input: I am feeling hungrier and more tired than usual. I also have Blurred vision sometimes. \n",
      "ChatBot:  I understand that you're feeling hungrier and more tired than usual, and you're experiencing blurred vision at times. These symptoms can be concerning and may be indicative of several conditions, including diabetes. To help me provide you with more accurate information, I have a few follow-up questions:\n",
      "\n",
      "1. Have you noticed any increase in your frequency of urination or thirst?\n",
      "2. How long have you been experiencing these symptoms?\n",
      "3. Do you have any known medical conditions, such as diabetes, or a family history of diabetes? \n",
      "\n",
      "Please answer these questions so I can assist you further.\n",
      "User Input: I do not have other symptoms. I have family history of diabetes.\n",
      "ChatBot:  Thank you for sharing that information. Given your symptoms of increased hunger, fatigue, blurred vision, and a family history of diabetes, it's important to consider the possibility of diabetes as a cause. These symptoms can be associated with elevated blood glucose levels, which is a hallmark of diabetes.\n",
      "\n",
      "It would be prudent to get a medical evaluation to check your blood glucose levels. A healthcare provider can perform tests, such as fasting blood glucose or an HbA1c test, to determine if you have diabetes.\n",
      "\n",
      "In the meantime, here are some precautionary measures you can take:\n",
      "\n",
      "1. Monitor your diet by reducing sugar and carbohydrate intake.\n",
      "2. Increase your physical activity, which can help regulate blood glucose levels.\n",
      "3. Stay hydrated and avoid sugary drinks.\n",
      "4. Keep track of your symptoms and note if there are any changes or if they worsen.\n",
      "\n",
      "Would you like me to send you an email summary of this diagnosis and the precaution plan?\n",
      "User Input: Yes\n",
      "GPT to call! function:  send_email\n",
      "ChatBot: Oh, just found the email sending status is Success! sent email to piyush.bhadauriya@sjsu.edu\n",
      "ChatBot:  The email summary of your diagnosis and precaution plan has been sent to piyush.bhadauriya@sjsu.edu. Thank you for using this service, and take care. If you have any more questions or concerns in the future, feel free to reach out. Goodbye!\n",
      "User Input: bye\n"
     ]
    }
   ],
   "source": [
    "continue_chat = True\n",
    "\n",
    "# Signature of the model calling: \n",
    "# def chat_completion_request(messages, temperature=0, tools=None, tool_choice=None, model=GPT_MODEL):\n",
    "# Return of the call:\n",
    "# assistant_message = chat_response.choices[0].message\n",
    "\n",
    "while continue_chat:    \n",
    "    response = chat_completion_request(chatContext, temperature=0, tools=tools, tool_choice=\"auto\")\n",
    "    assistant_message = response.choices[0].message\n",
    "\n",
    "    tool_calls = assistant_message.tool_calls\n",
    "    \n",
    "    if not tool_calls:\n",
    "        chatContext.append({'role': 'assistant', 'content': f\"{assistant_message.content}\"})\n",
    "        print(\"ChatBot: \", assistant_message.content)\n",
    "\n",
    "    if tool_calls:\n",
    "        # Step 3: call the function.\n",
    "        chatContext.append(assistant_message)  # extend conversation with assistant's reply\n",
    "        \n",
    "        # Step 4: send the info for each function call and function response to the model\n",
    "        for tool_call in tool_calls:\n",
    "            function_name = tool_call.function.name\n",
    "            print(\"GPT to call! function: \", function_name)\n",
    "            function_to_call = available_functions[function_name]\n",
    "            function_args = json.loads(tool_call.function.arguments)\n",
    "        \n",
    "            function_response = function_to_call(\n",
    "                to_email = function_args.get(\"to_email\"),\n",
    "                msg = function_args.get(\"msg\")\n",
    "            )\n",
    "        \n",
    "            email_status = function_response\n",
    "\n",
    "            print(f\"ChatBot: Oh, just found the email sending status is {email_status}\")\n",
    "        \n",
    "            chatContext.append(\n",
    "                {\n",
    "                    \"tool_call_id\": tool_call.id,\n",
    "                    \"role\": \"tool\",\n",
    "                    \"name\": function_name,\n",
    "                    \"content\": function_response,\n",
    "                }\n",
    "            )\n",
    "            second_response = chat_completion_request(chatContext, temperature=0, tools=tools, tool_choice=\"auto\")\n",
    "            second_response_content = second_response.choices[0].message.content\n",
    "            print(\"ChatBot: \", second_response_content)\n",
    "#             if \"bye\".lower() in str(second_response_content).lower(): \n",
    "#                 continue_chat = False\n",
    "    if continue_chat:\n",
    "        user_input = input(\"User Input: \")\n",
    "        if \"bye\" in user_input.lower() or \"quit\" in user_input.lower() or \"exit\" in user_input.lower():\n",
    "            continue_chat = False\n",
    "        chatContext.append({'role':'user', 'content':user_input}) \n",
    "#end of while loop\n",
    "                        "
   ]
  },
  {
   "cell_type": "code",
   "execution_count": 31,
   "id": "bd3f81a4",
   "metadata": {},
   "outputs": [
    {
     "data": {
      "text/plain": [
       "[{'role': 'system',\n",
       "  'content': '\\n    I want you to act as a virtual doctor.\\n    Be polite and empathetic with user.Give user warning for non emergecy use only during greeting.\\n    Provide information that user can quit chat anytime when they type \"bye or quit or exit.\\n\\n    Follow do and don\\'t  beforing answering.\\n    do :\\n        Ask user to provide email during welcome , repeat asking for email until user provide one.\\n    \\n    don\\'t :\\n        Don\\'t proceed with daignosis without user email.\\n        Don\\'t repeat non emergecy use worning every time.\\n        Don\\'t ask more then 3 follow up question.\\n        \\n    Go step by step :\\n        - Ask user to provide users\\' email during welcome , repeat asking for user email until user provide one.\\n        - If user don\\'t provide email , inform that you can\\'t help withour user email , and repeat previous step , else Thank user for providing email and move to next step\\n        - Ask user how user is feeling.\\n        - Based on user provided symptoms if needed more informaiton for diagonosis , ask max 2-3 follow up questions.\\n        - Provide a diagnosis and precaution plan based on the provided context and symptoms.\\n        - ask user if they want email summary of diagnosis.\\n        - if user respond yes , give message that email is sent to users email , else say thank you.\\n        - Say bye to user.\\n        \\n        \\n<context>\\n1. The document provides information on how to differentiate between common cold and flu symptoms, their duration, and when to seek medical advice.\\n2. A cold is a milder respiratory illness than the flu, with symptoms like sore throat, runny nose, congestion, and cough, and fever is rare in adults.\\n3. Cold symptoms typically last about a week, with the first three days being the most contagious period.\\n4. If cold symptoms persist beyond a week or worsen, it could indicate a bacterial infection or other conditions like allergies or sinusitis.\\n5. Flu symptoms are more severe and come on quickly, including sore throat, fever, headache, muscle aches, congestion, and cough, and can lead to complications like pneumonia.\\n6. Flu symptoms often include a higher fever and more intense body aches compared to a cold, and fatigue can last several weeks.\\n7. The document includes a table comparing symptoms of colds and flu to help readers self-diagnose.\\n8. It\\'s important to call a doctor if experiencing severe symptoms like persistent fever, painful swallowing, persistent coughing, or signs of a bacterial infection.\\n9. Preventative measures include frequent hand washing and getting a flu vaccine, especially during the peak flu season from fall to spring.\\n10. The document emphasizes the importance of medical consultation for severe symptoms and provides additional resources on cold and flu treatment and prevention.\\n---\\n1. Diabetes symptoms arise from elevated glucose levels in the blood, often going unnoticed, particularly in type 2 diabetes.\\n2. Type 1 diabetes symptoms appear rapidly and are more severe, while type 2 symptoms develop over time.\\n3. Common early signs include increased hunger and fatigue due to the body\\'s inability to use glucose for energy without sufficient insulin.\\n4. Frequent urination and increased thirst occur as the body attempts to eliminate excess glucose, leading to dehydration.\\n5. Dry mouth, itchy skin, and blurred vision are also symptoms, caused by the body\\'s use of fluids to produce urine, affecting hydration and eye lens shape.\\n6. Type 2 diabetes may present with yeast infections, slow-healing sores, and pain or numbness in extremities due to high glucose levels.\\n7. Unplanned weight loss, nausea, and vomiting are signs of type 1 diabetes, potentially leading to diabetic ketoacidosis.\\n8. Gestational diabetes typically has no symptoms but may cause increased thirst and urination.\\n9. Complications of diabetes include skin infections, numbness, vision problems, and erectile dysfunction.\\n10. Hypoglycemia and hyperglycemia are conditions of low and high blood sugar, respectively, with symptoms like shakiness, confusion, heavy thirst, and frequent urination; severe cases can lead to diabetic coma.\\n---\\n\\n</context>\\n'},\n",
       " {'role': 'assistant',\n",
       "  'content': 'Welcome to your virtual doctor consultation. Please note that this service is for non-emergency use only. If you are experiencing a medical emergency, please contact emergency services immediately. To begin, could you please provide me with your email address? Remember, you can quit this chat at any time by typing \"bye,\" \"quit,\" or \"exit.\"'},\n",
       " {'role': 'user', 'content': 'piyush.bhadauriya@sjsu.edu'},\n",
       " {'role': 'assistant',\n",
       "  'content': \"Thank you for providing your email address, piyush.bhadauriya@sjsu.edu. Now, how are you feeling today? Please share any symptoms you're experiencing or any health concerns you have.\"},\n",
       " {'role': 'user',\n",
       "  'content': 'I am feeling hungrier and more tired than usual. I also have Blurred vision sometimes. '},\n",
       " {'role': 'assistant',\n",
       "  'content': \"I understand that you're feeling hungrier and more tired than usual, and you're experiencing blurred vision at times. These symptoms can be concerning and may be indicative of several conditions, including diabetes. To help me provide you with more accurate information, I have a few follow-up questions:\\n\\n1. Have you noticed any increase in your frequency of urination or thirst?\\n2. How long have you been experiencing these symptoms?\\n3. Do you have any known medical conditions, such as diabetes, or a family history of diabetes? \\n\\nPlease answer these questions so I can assist you further.\"},\n",
       " {'role': 'user',\n",
       "  'content': 'I do not have other symptoms. I have family history of diabetes.'},\n",
       " {'role': 'assistant',\n",
       "  'content': \"Thank you for sharing that information. Given your symptoms of increased hunger, fatigue, blurred vision, and a family history of diabetes, it's important to consider the possibility of diabetes as a cause. These symptoms can be associated with elevated blood glucose levels, which is a hallmark of diabetes.\\n\\nIt would be prudent to get a medical evaluation to check your blood glucose levels. A healthcare provider can perform tests, such as fasting blood glucose or an HbA1c test, to determine if you have diabetes.\\n\\nIn the meantime, here are some precautionary measures you can take:\\n\\n1. Monitor your diet by reducing sugar and carbohydrate intake.\\n2. Increase your physical activity, which can help regulate blood glucose levels.\\n3. Stay hydrated and avoid sugary drinks.\\n4. Keep track of your symptoms and note if there are any changes or if they worsen.\\n\\nWould you like me to send you an email summary of this diagnosis and the precaution plan?\"},\n",
       " {'role': 'user', 'content': 'Yes'},\n",
       " ChatCompletionMessage(content=None, role='assistant', function_call=None, tool_calls=[ChatCompletionMessageToolCall(id='call_Yk2Gc3CuFYkUO7hXZgJfAw7A', function=Function(arguments='{\"to_email\":\"piyush.bhadauriya@sjsu.edu\",\"msg\":\"Based on the symptoms you\\'ve described and your family history of diabetes, it is important to consider the possibility of diabetes as a cause for your increased hunger, fatigue, and blurred vision. It is recommended that you get a medical evaluation to check your blood glucose levels. A healthcare provider can perform tests, such as fasting blood glucose or an HbA1c test, to determine if you have diabetes.\\\\n\\\\nPrecautionary measures include:\\\\n1. Monitoring your diet by reducing sugar and carbohydrate intake.\\\\n2. Increasing physical activity to help regulate blood glucose levels.\\\\n3. Staying hydrated and avoiding sugary drinks.\\\\n4. Keeping track of your symptoms and noting any changes or if they worsen.\\\\n\\\\nPlease consult with a healthcare provider for a definitive diagnosis and personalized treatment plan.\"}', name='send_email'), type='function')]),\n",
       " {'tool_call_id': 'call_Yk2Gc3CuFYkUO7hXZgJfAw7A',\n",
       "  'role': 'tool',\n",
       "  'name': 'send_email',\n",
       "  'content': 'Success! sent email to piyush.bhadauriya@sjsu.edu'},\n",
       " {'role': 'user', 'content': 'bye'}]"
      ]
     },
     "execution_count": 31,
     "metadata": {},
     "output_type": "execute_result"
    }
   ],
   "source": [
    "chatContext"
   ]
  },
  {
   "cell_type": "code",
   "execution_count": null,
   "id": "c6f2fa1c",
   "metadata": {},
   "outputs": [],
   "source": [
    "\n"
   ]
  }
 ],
 "metadata": {
  "kernelspec": {
   "display_name": "Python 3 (ipykernel)",
   "language": "python",
   "name": "python3"
  },
  "language_info": {
   "codemirror_mode": {
    "name": "ipython",
    "version": 3
   },
   "file_extension": ".py",
   "mimetype": "text/x-python",
   "name": "python",
   "nbconvert_exporter": "python",
   "pygments_lexer": "ipython3",
   "version": "3.10.8"
  }
 },
 "nbformat": 4,
 "nbformat_minor": 5
}
