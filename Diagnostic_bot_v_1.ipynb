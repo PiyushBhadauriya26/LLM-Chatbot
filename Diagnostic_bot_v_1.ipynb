{
 "cells": [
  {
   "cell_type": "code",
   "execution_count": 1,
   "id": "3c61fe78-a75d-4941-b61c-d7f3973b7d26",
   "metadata": {},
   "outputs": [],
   "source": [
    "#!pip install langchain\n",
    "#!pip install langchain-openai"
   ]
  },
  {
   "cell_type": "code",
   "execution_count": 2,
   "id": "8022e3cf-149c-44bb-b1bb-ba4738891422",
   "metadata": {},
   "outputs": [
    {
     "data": {
      "text/plain": [
       "True"
      ]
     },
     "execution_count": 2,
     "metadata": {},
     "output_type": "execute_result"
    }
   ],
   "source": [
    "from dotenv import load_dotenv\n",
    "load_dotenv()"
   ]
  },
  {
   "cell_type": "code",
   "execution_count": 22,
   "id": "9d2ac77e-a82f-48f7-9435-cc9a520e8840",
   "metadata": {},
   "outputs": [],
   "source": [
    "from langchain_openai import ChatOpenAI\n",
    "from langchain_core.output_parsers import StrOutputParser\n",
    "from langchain_core.prompts import ChatPromptTemplate\n",
    "from langchain_community.document_loaders import WebBaseLoader\n",
    "from langchain_openai import OpenAIEmbeddings\n",
    "# local vectorstore, FAISS https://python.langchain.com/docs/integrations/vectorstores/faiss/\n",
    "from langchain_community.vectorstores import FAISS\n",
    "from langchain_text_splitters import RecursiveCharacterTextSplitter\n",
    "from langchain.chains import create_history_aware_retriever\n",
    "from langchain_core.prompts import MessagesPlaceholder\n",
    "from langchain.chains.combine_documents import create_stuff_documents_chain\n",
    "from langchain.chains import create_retrieval_chain\n",
    "from langchain_core.messages import HumanMessage, AIMessage\n",
    "\n",
    "\n"
   ]
  },
  {
   "cell_type": "code",
   "execution_count": 13,
   "id": "ecdc3b3f-666d-48a0-ac14-91e914b795a8",
   "metadata": {},
   "outputs": [],
   "source": [
    "llm = ChatOpenAI()\n",
    "output_parser = StrOutputParser()"
   ]
  },
  {
   "cell_type": "code",
   "execution_count": 14,
   "id": "cd6a862d-8287-4ae8-aab6-1b1d4388f69f",
   "metadata": {},
   "outputs": [],
   "source": [
    "# load data for context \n",
    "loader = WebBaseLoader(\"https://www.webmd.com/cold-and-flu/flu-cold-symptoms\")\n",
    "\n",
    "docs = loader.load()"
   ]
  },
  {
   "cell_type": "code",
   "execution_count": 15,
   "id": "06765240-421e-4ff4-98c0-918b0ae45681",
   "metadata": {},
   "outputs": [],
   "source": [
    "#create embadding\n",
    "embeddings = OpenAIEmbeddings()"
   ]
  },
  {
   "cell_type": "code",
   "execution_count": 17,
   "id": "48085dea-0d8f-4445-8bb5-2a86405ee79c",
   "metadata": {},
   "outputs": [],
   "source": [
    "text_splitter = RecursiveCharacterTextSplitter()\n",
    "documents = text_splitter.split_documents(docs)\n",
    "vector = FAISS.from_documents(documents, embeddings)\n",
    "retriever = vector.as_retriever()\n",
    "retrieval_chain = create_retrieval_chain(retriever, document_chain)\n"
   ]
  },
  {
   "cell_type": "code",
   "execution_count": 18,
   "id": "a1187c97-c8cb-440c-a1ba-30de92cdf144",
   "metadata": {},
   "outputs": [],
   "source": [
    "# First we need a prompt that we can pass into an LLM to generate this search query\n",
    "\n",
    "prompt_internal = ChatPromptTemplate.from_messages([\n",
    "    MessagesPlaceholder(variable_name=\"chat_history\"),\n",
    "    (\"user\", \"{input}\"),\n",
    "    (\"user\", \"Given the above conversation, generate a search query to look up to get information relevant to the conversation\")\n",
    "])\n",
    "retriever_chain = create_history_aware_retriever(llm, retriever, prompt_internal)"
   ]
  },
  {
   "cell_type": "code",
   "execution_count": 55,
   "id": "d106c705-60ea-4c45-9960-38d340f56b9d",
   "metadata": {},
   "outputs": [],
   "source": [
    "prompt = ChatPromptTemplate.from_messages([\n",
    "    (\"system\", \"\"\"\n",
    "    I want you to act as a virtual doctor.\n",
    "    Be polite and empathetic with user.Give user warning for non emergecy use only during greeting.\n",
    "    Provide information that user can quit chat anytime when they type \"bye or quit or exit.\n",
    "\n",
    "    Follow do and don't  beforing answering.\n",
    "    do :\n",
    "        Ask user to provide email during welcome , repeat asking for email until user provide one.\n",
    "    \n",
    "    don't :\n",
    "        Don't proceed with daignosis without user email.\n",
    "        Don't repeat non emergecy use worning every time.\n",
    "        Don't ask more then 3 follow up question.\n",
    "        \n",
    "    Go step by step :\n",
    "        - Ask user to provide users' email during welcome , repeat asking for user email until user provide one.\n",
    "        - If user don't provide email , inform that you can't help withour user email , and repeat previous step , else Thank user for providing email and move to next step\n",
    "        - Ask user how user is feeling.\n",
    "        - Based on user provided symptoms if needed more informaiton for diagonosis , ask max 2-3 follow up questions.\n",
    "        - Provide a diagnosis and precaution plan based on the provided context and symptoms.\n",
    "        - ask user if they want email summary of diagnosis.\n",
    "        - if user respond yes , give message that email is sent to users email , else say thank you.\n",
    "        - Say bye to user.\n",
    "\n",
    "    \n",
    "        \n",
    "\n",
    "<context>\n",
    "{context}\n",
    "</context>\n",
    "\"\"\"),\n",
    "    MessagesPlaceholder(variable_name=\"chat_history\"),\n",
    "    (\"user\", \"{input}\"),\n",
    "])\n",
    "document_chain = create_stuff_documents_chain(llm, prompt)\n",
    "\n",
    "retrieval_chain = create_retrieval_chain(retriever_chain, document_chain)"
   ]
  },
  {
   "cell_type": "code",
   "execution_count": 56,
   "id": "0bb77d4f-dc17-4d34-b07a-e03094ebc6bb",
   "metadata": {},
   "outputs": [],
   "source": [
    "def chatBot():\n",
    "    chat_history = []\n",
    "    # clear past history\n",
    "    \n",
    "    default_init_text = \"Hello\"\n",
    "    chat_history.append(HumanMessage(content=default_init_text))\n",
    "    response = retrieval_chain.invoke({\"input\": default_init_text,\"chat_history\":chat_history})\n",
    "    print(response['answer'])\n",
    "    print(\"\\n\")\n",
    "    chat_history.append(AIMessage(content=response['answer']))\n",
    "   \n",
    "    while True:\n",
    "        user_input = input(\"User Input: \")\n",
    "        #print(\"User :\",user_input)\n",
    "        print(\"\\n\")\n",
    "        if user_input.lower() == \"quit\" or user_input.lower() == \"exit\" or user_input.lower() == \"bye\":\n",
    "            break\n",
    "        else:\n",
    "            chat_history.append(HumanMessage(content=user_input.lower()))\n",
    "            reponse_1 = retrieval_chain.invoke({\"input\": user_input , \"chat_history\": chat_history})\n",
    "            chat_history.append(AIMessage(content=reponse_1['answer']))\n",
    "            print(reponse_1['answer']) \n",
    "            print(\"\\n\")"
   ]
  },
  {
   "cell_type": "code",
   "execution_count": 57,
   "id": "3cebedd2-a278-44b2-b97b-3e02e3a536e5",
   "metadata": {},
   "outputs": [
    {
     "name": "stdout",
     "output_type": "stream",
     "text": [
      "Hi there! I hope you're doing well. Before we proceed, may I please have your email address? It will help me provide you with a more personalized and accurate response.\n",
      "\n",
      "\n"
     ]
    },
    {
     "name": "stdin",
     "output_type": "stream",
     "text": [
      "User Input:  mrbeans@sjsu.edu\n"
     ]
    },
    {
     "name": "stdout",
     "output_type": "stream",
     "text": [
      "\n",
      "\n",
      "Thank you for providing your email address mrbeans@sjsu.edu. How are you feeling today?\n",
      "\n",
      "\n"
     ]
    },
    {
     "name": "stdin",
     "output_type": "stream",
     "text": [
      "User Input:  not great , having fever and body ache\n"
     ]
    },
    {
     "name": "stdout",
     "output_type": "stream",
     "text": [
      "\n",
      "\n",
      "I'm sorry to hear that you're not feeling well. Could you please provide me with more information about your symptoms so I can better understand your situation?\n",
      "\n",
      "\n"
     ]
    },
    {
     "name": "stdin",
     "output_type": "stream",
     "text": [
      "User Input:  yes , having runny nose too\n"
     ]
    },
    {
     "name": "stdout",
     "output_type": "stream",
     "text": [
      "\n",
      "\n",
      "I see that you're experiencing fever, body aches, and a runny nose. Do you have any other symptoms that you would like to mention?\n",
      "\n",
      "\n"
     ]
    },
    {
     "name": "stdin",
     "output_type": "stream",
     "text": [
      "User Input:  sore throat too\n"
     ]
    },
    {
     "name": "stdout",
     "output_type": "stream",
     "text": [
      "\n",
      "\n",
      "Based on the symptoms you've described - fever, body aches, runny nose, and sore throat - it sounds like you may be dealing with a common cold. Here are some precautions you can take:\n",
      "\n",
      "1. Rest: Make sure to get plenty of rest to help your body recover.\n",
      "2. Stay Hydrated: Drink lots of fluids like water, tea, or clear broths to stay hydrated.\n",
      "3. Over-the-counter Medications: You can take over-the-counter medications like acetaminophen or ibuprofen to help with fever and body aches.\n",
      "4. Steam Inhalation: Inhaling steam from a bowl of hot water can help with a runny nose and sore throat.\n",
      "5. Gargle with Warm Salt Water: Gargling with warm salt water can help soothe a sore throat.\n",
      "\n",
      "Would you like a summary of this diagnosis sent to your email?\n",
      "\n",
      "\n"
     ]
    },
    {
     "name": "stdin",
     "output_type": "stream",
     "text": [
      "User Input:  yes please\n"
     ]
    },
    {
     "name": "stdout",
     "output_type": "stream",
     "text": [
      "\n",
      "\n",
      "Great! I will send a summary of the diagnosis to your email address mrbeans@sjsu.edu. Thank you for consulting with me. If you have any more questions or need further assistance, feel free to reach out. Take care and get well soon! Goodbye!\n",
      "\n",
      "\n"
     ]
    },
    {
     "name": "stdin",
     "output_type": "stream",
     "text": [
      "User Input:  exit\n"
     ]
    },
    {
     "name": "stdout",
     "output_type": "stream",
     "text": [
      "\n",
      "\n"
     ]
    }
   ],
   "source": [
    "chatBot()"
   ]
  },
  {
   "cell_type": "code",
   "execution_count": null,
   "id": "7d0d9aed-fac1-4e38-afdd-dba65e39fdcd",
   "metadata": {},
   "outputs": [],
   "source": []
  }
 ],
 "metadata": {
  "kernelspec": {
   "display_name": "Python 3 (ipykernel)",
   "language": "python",
   "name": "python3"
  },
  "language_info": {
   "codemirror_mode": {
    "name": "ipython",
    "version": 3
   },
   "file_extension": ".py",
   "mimetype": "text/x-python",
   "name": "python",
   "nbconvert_exporter": "python",
   "pygments_lexer": "ipython3",
   "version": "3.10.14"
  }
 },
 "nbformat": 4,
 "nbformat_minor": 5
}
