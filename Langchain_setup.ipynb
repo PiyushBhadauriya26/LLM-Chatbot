{
 "cells": [
  {
   "cell_type": "markdown",
   "id": "67fdf859",
   "metadata": {},
   "source": [
    "https://python.langchain.com/docs/get_started/quickstart/"
   ]
  },
  {
   "cell_type": "code",
   "execution_count": null,
   "id": "11c2aecb",
   "metadata": {},
   "outputs": [],
   "source": [
    "#!pip install langchain\n",
    "#!pip install langchain-openai"
   ]
  },
  {
   "cell_type": "code",
   "execution_count": 11,
   "id": "c88b793f",
   "metadata": {},
   "outputs": [
    {
     "data": {
      "text/plain": [
       "True"
      ]
     },
     "execution_count": 11,
     "metadata": {},
     "output_type": "execute_result"
    }
   ],
   "source": [
    "from dotenv import load_dotenv\n",
    "load_dotenv()\n",
    "# export LANGCHAIN_TRACING_V2=\"true\"\n",
    "# export LANGCHAIN_API_KEY=\"...\"\n",
    "# export OPENAI_API_KEY=\"...\""
   ]
  },
  {
   "cell_type": "code",
   "execution_count": 7,
   "id": "9bd4501e",
   "metadata": {},
   "outputs": [],
   "source": [
    "from langchain_openai import ChatOpenAI\n",
    "from langchain_core.output_parsers import StrOutputParser\n",
    "from langchain_core.prompts import ChatPromptTemplate\n",
    "\n",
    "llm = ChatOpenAI()\n",
    "output_parser = StrOutputParser()"
   ]
  },
  {
   "cell_type": "markdown",
   "id": "a09b4a7b",
   "metadata": {},
   "source": [
    "# Prompt engineering "
   ]
  },
  {
   "cell_type": "code",
   "execution_count": 8,
   "id": "da461f4d",
   "metadata": {},
   "outputs": [
    {
     "data": {
      "text/plain": [
       "AIMessage(content=\"I'm sorry to hear that you're not feeling well. It's important to take care of yourself and address your symptoms. Have you been able to see a doctor or healthcare provider about your headache and dizziness? It's possible that they could be related to a number of different factors, such as dehydration, stress, or an underlying medical condition. I recommend seeking medical advice to determine the cause of your symptoms and receive appropriate treatment. In the meantime, make sure to stay hydrated, get plenty of rest, and avoid any activities that worsen your symptoms. Take care!\", response_metadata={'token_usage': {'completion_tokens': 115, 'prompt_tokens': 22, 'total_tokens': 137}, 'model_name': 'gpt-3.5-turbo', 'system_fingerprint': 'fp_b28b39ffa8', 'finish_reason': 'stop', 'logprobs': None}, id='run-fa0b48ce-b6d0-40b6-98da-8c976672103a-0')"
      ]
     },
     "execution_count": 8,
     "metadata": {},
     "output_type": "execute_result"
    }
   ],
   "source": [
    "llm.invoke(\"I have been experiencing a headache and dizziness for the last few days.\")"
   ]
  },
  {
   "cell_type": "code",
   "execution_count": 18,
   "id": "25cce4bd",
   "metadata": {},
   "outputs": [
    {
     "data": {
      "text/plain": [
       "AIMessage(content='Diagnosis: Possible migraine headache\\nTreatment plan: Rest in a quiet, dark room, stay hydrated, over-the-counter pain relievers like acetaminophen or ibuprofen, consider seeing a doctor for further evaluation and prescription medications if symptoms persist.', response_metadata={'token_usage': {'completion_tokens': 51, 'prompt_tokens': 68, 'total_tokens': 119}, 'model_name': 'gpt-3.5-turbo', 'system_fingerprint': 'fp_b28b39ffa8', 'finish_reason': 'stop', 'logprobs': None}, id='run-50d303ce-92af-4781-a2d6-0252feb580ea-0')"
      ]
     },
     "execution_count": 18,
     "metadata": {},
     "output_type": "execute_result"
    }
   ],
   "source": [
    "from langchain_core.prompts import ChatPromptTemplate\n",
    "prompt = ChatPromptTemplate.from_messages([\n",
    "    (\"system\", \"I want you to act as a virtual doctor. I will describe my symptoms and \\\n",
    "    you will provide a diagnosis and treatment plan.\\\n",
    "    You should only reply with your diagnosis and treatment plan, and nothing else.\"),\n",
    "    (\"user\", \"{input}\")\n",
    "])\n",
    "chain = prompt | llm \n",
    "chain.invoke({\"input\": \"I have been experiencing a headache and dizziness for the last few days.\"})"
   ]
  },
  {
   "cell_type": "code",
   "execution_count": 19,
   "id": "11df2a25",
   "metadata": {},
   "outputs": [
    {
     "name": "stdout",
     "output_type": "stream",
     "text": [
      "Diagnosis: Possible migraine headache with associated dizziness\n",
      "\n",
      "Treatment Plan:\n",
      "1. Rest in a quiet, dark room\n",
      "2. Stay hydrated and maintain a regular sleep schedule\n",
      "3. Over-the-counter pain relief medication like acetaminophen or ibuprofen\n",
      "4. Avoid triggers such as certain foods, stress, or lack of sleep\n",
      "5. If symptoms persist or worsen, consult a healthcare provider\n"
     ]
    }
   ],
   "source": [
    "chain = prompt | llm | output_parser\n",
    "print(chain.invoke({\"input\": \"I have been experiencing a headache and dizziness for the last few days.\"}))"
   ]
  },
  {
   "cell_type": "code",
   "execution_count": 29,
   "id": "56d98d73",
   "metadata": {},
   "outputs": [
    {
     "name": "stdout",
     "output_type": "stream",
     "text": [
      "Diagnosis: Possible viral infection or flu\n",
      "\n",
      "Treatment plan: Get plenty of rest, stay hydrated, take over-the-counter pain relievers like acetaminophen or ibuprofen for fever and body aches. If symptoms persist or worsen, consult a healthcare provider.\n"
     ]
    }
   ],
   "source": [
    "print(chain.invoke({\"input\": \"I have been experiencing mild fever and exhaustion for the last few days.\"}))"
   ]
  },
  {
   "cell_type": "markdown",
   "id": "f7fc98a6",
   "metadata": {},
   "source": [
    "# Retrieval Chain"
   ]
  },
  {
   "cell_type": "code",
   "execution_count": 14,
   "id": "c828265e",
   "metadata": {},
   "outputs": [],
   "source": [
    "#!pip install beautifulsoup4\n",
    "#!pip install faiss-cpu"
   ]
  },
  {
   "cell_type": "code",
   "execution_count": 20,
   "id": "bea49dc9",
   "metadata": {},
   "outputs": [],
   "source": [
    "from langchain_community.document_loaders import WebBaseLoader\n",
    "loader = WebBaseLoader(\"https://www.webmd.com/cold-and-flu/flu-cold-symptoms\")\n",
    "\n",
    "docs = loader.load()"
   ]
  },
  {
   "cell_type": "code",
   "execution_count": 21,
   "id": "e9ff7387",
   "metadata": {},
   "outputs": [],
   "source": [
    "from langchain_openai import OpenAIEmbeddings\n",
    "embeddings = OpenAIEmbeddings()"
   ]
  },
  {
   "cell_type": "code",
   "execution_count": 23,
   "id": "fa0465ec",
   "metadata": {},
   "outputs": [],
   "source": [
    "#docs"
   ]
  },
  {
   "cell_type": "code",
   "execution_count": 24,
   "id": "404daae1",
   "metadata": {},
   "outputs": [],
   "source": [
    "# local vectorstore, FAISS https://python.langchain.com/docs/integrations/vectorstores/faiss/\n",
    "from langchain_community.vectorstores import FAISS\n",
    "from langchain_text_splitters import RecursiveCharacterTextSplitter\n",
    "\n",
    "text_splitter = RecursiveCharacterTextSplitter()\n",
    "documents = text_splitter.split_documents(docs)\n",
    "vector = FAISS.from_documents(documents, embeddings)"
   ]
  },
  {
   "cell_type": "code",
   "execution_count": 26,
   "id": "560b7cc2",
   "metadata": {},
   "outputs": [],
   "source": [
    "from langchain.chains.combine_documents import create_stuff_documents_chain\n",
    "\n",
    "prompt = ChatPromptTemplate.from_template(\"\"\"I want you to act as a virtual doctor. \n",
    "I will describe my symptoms and you will provide a diagnosis and treatment plan based on the provided context:\n",
    "\n",
    "<context>\n",
    "{context}\n",
    "</context>\n",
    "\n",
    "Symptoms: {input}\"\"\")\n",
    "\n",
    "document_chain = create_stuff_documents_chain(llm, prompt)"
   ]
  },
  {
   "cell_type": "code",
   "execution_count": 27,
   "id": "3c0e5627",
   "metadata": {},
   "outputs": [
    {
     "name": "stdout",
     "output_type": "stream",
     "text": [
      "Diagnosis: Based on the symptoms of mild fever and exhaustion, it is possible that you may have contracted either a cold or flu virus.\n",
      "\n",
      "Treatment Plan: \n",
      "1. Rest: Make sure to get plenty of rest to allow your body to recover.\n",
      "2. Stay Hydrated: Drink plenty of fluids to help with fever and exhaustion.\n",
      "3. Over-the-counter Medications: Consider taking over-the-counter pain relievers and fever reducers to help alleviate symptoms.\n",
      "4. Monitor Symptoms: Keep an eye on your symptoms and if they worsen or persist for more than a week, consider contacting a doctor for further evaluation and possible treatment options.\n",
      "\n",
      "Remember to follow good hygiene practices, such as frequent handwashing, to prevent spreading the virus to others.\n"
     ]
    }
   ],
   "source": [
    "from langchain.chains import create_retrieval_chain\n",
    "\n",
    "retriever = vector.as_retriever()\n",
    "retrieval_chain = create_retrieval_chain(retriever, document_chain)\n",
    "response = retrieval_chain.invoke({\"input\": \"I have been experiencing mild fever and exhaustion for the last few days.\"})\n",
    "print(response[\"answer\"])\n"
   ]
  },
  {
   "cell_type": "code",
   "execution_count": null,
   "id": "7a93de30",
   "metadata": {},
   "outputs": [],
   "source": []
  }
 ],
 "metadata": {
  "kernelspec": {
   "display_name": "Python 3 (ipykernel)",
   "language": "python",
   "name": "python3"
  },
  "language_info": {
   "codemirror_mode": {
    "name": "ipython",
    "version": 3
   },
   "file_extension": ".py",
   "mimetype": "text/x-python",
   "name": "python",
   "nbconvert_exporter": "python",
   "pygments_lexer": "ipython3",
   "version": "3.10.8"
  }
 },
 "nbformat": 4,
 "nbformat_minor": 5
}
