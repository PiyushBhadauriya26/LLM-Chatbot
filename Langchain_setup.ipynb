{
 "cells": [
  {
   "cell_type": "markdown",
   "id": "67fdf859",
   "metadata": {},
   "source": [
    "https://python.langchain.com/docs/get_started/quickstart/"
   ]
  },
  {
   "cell_type": "code",
   "execution_count": null,
   "id": "11c2aecb",
   "metadata": {},
   "outputs": [],
   "source": [
    "#!pip install langchain\n",
    "#!pip install langchain-openai"
   ]
  },
  {
   "cell_type": "code",
   "execution_count": 1,
   "id": "c88b793f",
   "metadata": {},
   "outputs": [
    {
     "data": {
      "text/plain": [
       "True"
      ]
     },
     "execution_count": 1,
     "metadata": {},
     "output_type": "execute_result"
    }
   ],
   "source": [
    "from dotenv import load_dotenv\n",
    "load_dotenv()\n",
    "# export LANGCHAIN_TRACING_V2=\"true\"\n",
    "# export LANGCHAIN_API_KEY=\"...\"\n",
    "# export OPENAI_API_KEY=\"...\""
   ]
  },
  {
   "cell_type": "code",
   "execution_count": 3,
   "id": "9bd4501e",
   "metadata": {},
   "outputs": [],
   "source": [
    "from langchain_openai import ChatOpenAI\n",
    "\n",
    "llm = ChatOpenAI()"
   ]
  },
  {
   "cell_type": "markdown",
   "id": "a09b4a7b",
   "metadata": {},
   "source": [
    "# Prompt engineering "
   ]
  },
  {
   "cell_type": "code",
   "execution_count": 4,
   "id": "da461f4d",
   "metadata": {},
   "outputs": [
    {
     "data": {
      "text/plain": [
       "AIMessage(content='Langsmith can help with testing by providing automated testing tools, testing frameworks, and test case generation capabilities. It can also facilitate the creation of test scripts and help in running tests on different platforms and environments. Additionally, Langsmith can assist in analyzing test results, identifying bugs and issues, and providing insights for improving test coverage and efficiency. Overall, Langsmith can streamline the testing process and enhance the overall quality of the software being tested.', response_metadata={'token_usage': {'completion_tokens': 87, 'prompt_tokens': 15, 'total_tokens': 102}, 'model_name': 'gpt-3.5-turbo', 'system_fingerprint': 'fp_b28b39ffa8', 'finish_reason': 'stop', 'logprobs': None}, id='run-71ac9643-025d-4967-8322-3c6da09190af-0')"
      ]
     },
     "execution_count": 4,
     "metadata": {},
     "output_type": "execute_result"
    }
   ],
   "source": [
    "llm.invoke(\"how can langsmith help with testing?\")"
   ]
  },
  {
   "cell_type": "code",
   "execution_count": 8,
   "id": "25cce4bd",
   "metadata": {},
   "outputs": [
    {
     "data": {
      "text/plain": [
       "AIMessage(content=\"Langsmith can help with testing in various ways:\\n\\n1. Test Automation: Langsmith can be used to automate testing scenarios, allowing for more efficient and consistent testing of software applications. By writing test scripts using Langsmith, testers can easily simulate user interactions and verify the functionality of the application.\\n\\n2. Data Generation: Langsmith can be used to generate realistic test data for testing purposes. This can help in creating diverse test cases to validate the application's behavior under different scenarios.\\n\\n3. Integration Testing: Langsmith can be utilized for integration testing by simulating interactions between different components of the software system. This can help in identifying any integration issues and ensuring that the components work seamlessly together.\\n\\n4. Load Testing: Langsmith can be employed for load testing to simulate a large number of concurrent users accessing the application. This can help in assessing the application's performance under heavy loads and identifying any bottlenecks.\\n\\n5. Regression Testing: Langsmith can be used to automate regression testing, allowing testers to quickly re-run test cases to verify that new code changes have not introduced any bugs or issues in the existing functionality.\\n\\nOverall, Langsmith can streamline the testing process, improve test coverage, and help in delivering high-quality software products.\", response_metadata={'token_usage': {'completion_tokens': 245, 'prompt_tokens': 27, 'total_tokens': 272}, 'model_name': 'gpt-3.5-turbo', 'system_fingerprint': 'fp_b28b39ffa8', 'finish_reason': 'stop', 'logprobs': None}, id='run-c89515ea-6115-4d71-993e-1e7bf7f62c9f-0')"
      ]
     },
     "execution_count": 8,
     "metadata": {},
     "output_type": "execute_result"
    }
   ],
   "source": [
    "from langchain_core.prompts import ChatPromptTemplate\n",
    "prompt = ChatPromptTemplate.from_messages([\n",
    "    (\"system\", \"You are world class technical documentation writer.\"),\n",
    "    (\"user\", \"{input}\")\n",
    "])\n",
    "chain = prompt | llm \n",
    "chain.invoke({\"input\": \"how can langsmith help with testing?\"})"
   ]
  },
  {
   "cell_type": "code",
   "execution_count": 9,
   "id": "11df2a25",
   "metadata": {},
   "outputs": [
    {
     "data": {
      "text/plain": [
       "\"Langsmith can help with testing in various ways, including:\\n\\n1. Automated Testing: Langsmith can be integrated with testing frameworks such as JUnit, TestNG, or Selenium to automate the testing process. This can help in running tests quickly and efficiently, reducing the time and effort required for manual testing.\\n\\n2. Test Data Generation: Langsmith can be used to generate test data for different scenarios, helping in creating a comprehensive test suite. This can ensure better test coverage and identify potential issues early in the development cycle.\\n\\n3. Performance Testing: Langsmith can also be used for performance testing by simulating a large number of users and analyzing the system's response under various load conditions. This can help in identifying performance bottlenecks and optimizing the system for better scalability.\\n\\n4. Integration Testing: Langsmith can assist in integration testing by facilitating the testing of different components or modules of an application together. This can help in identifying any issues related to the interactions between different parts of the system.\\n\\nOverall, Langsmith can enhance the testing process by improving efficiency, test coverage, and the overall quality of the software being tested.\""
      ]
     },
     "execution_count": 9,
     "metadata": {},
     "output_type": "execute_result"
    }
   ],
   "source": [
    "from langchain_core.output_parsers import StrOutputParser\n",
    "\n",
    "output_parser = StrOutputParser()\n",
    "chain = prompt | llm | output_parser\n",
    "chain.invoke({\"input\": \"how can langsmith help with testing?\"})"
   ]
  },
  {
   "cell_type": "markdown",
   "id": "f7fc98a6",
   "metadata": {},
   "source": [
    "# Retrieval Chain"
   ]
  },
  {
   "cell_type": "code",
   "execution_count": 14,
   "id": "c828265e",
   "metadata": {},
   "outputs": [],
   "source": [
    "#!pip install beautifulsoup4\n",
    "#!pip install faiss-cpu"
   ]
  },
  {
   "cell_type": "code",
   "execution_count": 11,
   "id": "bea49dc9",
   "metadata": {},
   "outputs": [],
   "source": [
    "from langchain_community.document_loaders import WebBaseLoader\n",
    "loader = WebBaseLoader(\"https://docs.smith.langchain.com/user_guide\")\n",
    "\n",
    "docs = loader.load()"
   ]
  },
  {
   "cell_type": "code",
   "execution_count": 12,
   "id": "e9ff7387",
   "metadata": {},
   "outputs": [],
   "source": [
    "from langchain_openai import OpenAIEmbeddings\n",
    "\n",
    "embeddings = OpenAIEmbeddings()"
   ]
  },
  {
   "cell_type": "code",
   "execution_count": 15,
   "id": "404daae1",
   "metadata": {},
   "outputs": [],
   "source": [
    "# local vectorstore, FAISS https://python.langchain.com/docs/integrations/vectorstores/faiss/\n",
    "from langchain_community.vectorstores import FAISS\n",
    "from langchain_text_splitters import RecursiveCharacterTextSplitter\n",
    "\n",
    "\n",
    "text_splitter = RecursiveCharacterTextSplitter()\n",
    "documents = text_splitter.split_documents(docs)\n",
    "vector = FAISS.from_documents(documents, embeddings)"
   ]
  },
  {
   "cell_type": "code",
   "execution_count": 16,
   "id": "560b7cc2",
   "metadata": {},
   "outputs": [],
   "source": [
    "from langchain.chains.combine_documents import create_stuff_documents_chain\n",
    "\n",
    "prompt = ChatPromptTemplate.from_template(\"\"\"Answer the following question based only on the provided context:\n",
    "\n",
    "<context>\n",
    "{context}\n",
    "</context>\n",
    "\n",
    "Question: {input}\"\"\")\n",
    "\n",
    "document_chain = create_stuff_documents_chain(llm, prompt)"
   ]
  },
  {
   "cell_type": "code",
   "execution_count": 18,
   "id": "3c0e5627",
   "metadata": {},
   "outputs": [
    {
     "name": "stdout",
     "output_type": "stream",
     "text": [
      "LangSmith can help with testing by allowing developers to create datasets, run tests on LLM applications using these datasets, and easily compare results for different configurations side-by-side. Additionally, LangSmith provides a playground environment for rapid iteration and experimentation, as well as features for beta testing, capturing feedback, annotating traces, adding runs to datasets, and monitoring performance metrics over time.\n"
     ]
    }
   ],
   "source": [
    "from langchain.chains import create_retrieval_chain\n",
    "\n",
    "retriever = vector.as_retriever()\n",
    "retrieval_chain = create_retrieval_chain(retriever, document_chain)\n",
    "response = retrieval_chain.invoke({\"input\": \"how can langsmith help with testing?\"})\n",
    "print(response[\"answer\"])\n"
   ]
  },
  {
   "cell_type": "code",
   "execution_count": null,
   "id": "7a93de30",
   "metadata": {},
   "outputs": [],
   "source": []
  }
 ],
 "metadata": {
  "kernelspec": {
   "display_name": "Python 3 (ipykernel)",
   "language": "python",
   "name": "python3"
  },
  "language_info": {
   "codemirror_mode": {
    "name": "ipython",
    "version": 3
   },
   "file_extension": ".py",
   "mimetype": "text/x-python",
   "name": "python",
   "nbconvert_exporter": "python",
   "pygments_lexer": "ipython3",
   "version": "3.10.8"
  }
 },
 "nbformat": 4,
 "nbformat_minor": 5
}
